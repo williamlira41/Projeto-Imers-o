{
  "nbformat": 4,
  "nbformat_minor": 0,
  "metadata": {
    "colab": {
      "provenance": [],
      "authorship_tag": "ABX9TyMDUaRNHMHLnlZNiDVBqIaw",
      "include_colab_link": true
    },
    "kernelspec": {
      "name": "python3",
      "display_name": "Python 3"
    },
    "language_info": {
      "name": "python"
    }
  },
  "cells": [
    {
      "cell_type": "markdown",
      "metadata": {
        "id": "view-in-github",
        "colab_type": "text"
      },
      "source": [
        "<a href=\"https://colab.research.google.com/github/williamlira41/Projeto-Imers-o/blob/main/PROJETO_IMERSAO.ipynb\" target=\"_parent\"><img src=\"https://colab.research.google.com/assets/colab-badge.svg\" alt=\"Open In Colab\"/></a>"
      ]
    },
    {
      "cell_type": "code",
      "execution_count": null,
      "metadata": {
        "id": "JEeQ3U8uXEdh"
      },
      "outputs": [],
      "source": [
        "! pip install -q -U google-generativeai"
      ]
    },
    {
      "cell_type": "code",
      "source": [
        "# com o argumento do pip intall nós intalamos o gemini aqui, mas precisamos fazer o import\n",
        "import google.generativeai as genai\n",
        "from google.colab import userdata\n",
        "\n",
        "# Apontar a API que vai me ligar na GEMINI\n",
        "api_key = userdata.get('Secret_Key')\n",
        "GOOGLE_API_KEY = (api_key)\n",
        "genai.configure(api_key=GOOGLE_API_KEY)"
      ],
      "metadata": {
        "id": "H9MyDUmNyoYi"
      },
      "execution_count": null,
      "outputs": []
    },
    {
      "cell_type": "code",
      "source": [
        "#cria um loop com o FOR para poder ele fazer uma busca de uma lista de modelos do GEMINI\n",
        "for m in genai.list_models():\n",
        "  if 'generateContent' in m.supported_generation_methods:\n",
        "    print(m.name)"
      ],
      "metadata": {
        "colab": {
          "base_uri": "https://localhost:8080/",
          "height": 139
        },
        "id": "4X625yBx5EfA",
        "outputId": "7685ccb3-cbf1-4c75-81ab-7bb5d97591ac"
      },
      "execution_count": null,
      "outputs": [
        {
          "output_type": "stream",
          "name": "stdout",
          "text": [
            "models/gemini-1.0-pro\n",
            "models/gemini-1.0-pro-001\n",
            "models/gemini-1.0-pro-latest\n",
            "models/gemini-1.0-pro-vision-latest\n",
            "models/gemini-1.5-pro-latest\n",
            "models/gemini-pro\n",
            "models/gemini-pro-vision\n"
          ]
        }
      ]
    },
    {
      "cell_type": "code",
      "source": [
        "# Aqui apontamos algumas configurações que vão relacionar ao modo de comportamento e resposta do modelo\n",
        "# Podemos entender isso como parametrização\n",
        "generation_config = {\n",
        "    'candidate_count': 1,\n",
        "    'temperature': 0.5\n",
        "}\n",
        "\n",
        "safety_settings = {\n",
        "    'HARASSMENT': 'BLOCK_NONE',\n",
        "    'HATE': 'BLOCK_NONE',\n",
        "    'SEXUAL': 'BLOCK_NONE',\n",
        "    'DANGEROUS': 'BLOCK_NONE',\n",
        "}"
      ],
      "metadata": {
        "id": "38f3W2JT5g6u"
      },
      "execution_count": null,
      "outputs": []
    },
    {
      "cell_type": "code",
      "source": [
        "# Iniciando o modelo\n",
        "model = genai.GenerativeModel(model_name='gemini-1.0-pro',\n",
        "                               generation_config = generation_config,\n",
        "                               safety_settings = safety_settings)"
      ],
      "metadata": {
        "id": "zeUn9Wj8JoMC"
      },
      "execution_count": null,
      "outputs": []
    },
    {
      "cell_type": "code",
      "source": [
        "response = model.generate_content(\"Poderia fazer uma redação de 10 linhas do que se ocorreu no Holocausto? Divida as ideias em topicos\")\n",
        "print(response.text)"
      ],
      "metadata": {
        "colab": {
          "base_uri": "https://localhost:8080/",
          "height": 225
        },
        "id": "_jfIBzkaLrhf",
        "outputId": "46ccaee1-cc50-4738-bdcc-11f3fb4efbb6"
      },
      "execution_count": null,
      "outputs": [
        {
          "output_type": "stream",
          "name": "stdout",
          "text": [
            "**O Holocausto**\n",
            "\n",
            "* **Contexto:** Alemanha nazista sob o regime de Hitler.\n",
            "* **Ideologia:** Antissemitismo e supremacia ariana.\n",
            "* **Início:** 1933, com leis discriminatórias contra judeus.\n",
            "* **Escalada:** Noite dos Cristais (1938) e campos de concentração.\n",
            "* **Genocídio:** Solução Final (1941-1945), extermínio sistemático de judeus.\n",
            "* **Campos de Extermínio:** Auschwitz, Treblinka, Sobibor e outros.\n",
            "* **Vítimas:** Aproximadamente 6 milhões de judeus, além de outros grupos minoritários.\n",
            "* **Consequências:** Trauma profundo, perda irreparável e condenação internacional.\n",
            "* **Legado:** Lembrança e combate ao ódio e à intolerância.\n",
            "* **Responsabilidade:** Alemanha nazista e seus colaboradores.\n"
          ]
        }
      ]
    },
    {
      "cell_type": "code",
      "source": [
        "# Criando a variável chat para uso do History\n",
        "chat = model.start_chat(history=[])"
      ],
      "metadata": {
        "id": "Mjv9yO9nRnrM"
      },
      "execution_count": null,
      "outputs": []
    },
    {
      "cell_type": "code",
      "source": [
        "# Criando a Prompt, ou área de comando para poder aplicar o input\n",
        "prompt = input ('Em que posso te ajudar hoje? ')\n",
        "\n",
        "while prompt != 'Não':\n",
        "  response = chat.send_message(prompt)\n",
        "  print('Olá! Sua resposta é: ', response.text,'\\n')\n",
        "  prompt = input('Posso te ajudar em algo mais? \\n')"
      ],
      "metadata": {
        "colab": {
          "base_uri": "https://localhost:8080/",
          "height": 402
        },
        "id": "TGLqnAKd4FeR",
        "outputId": "c3004afa-78d3-4cb5-c4c6-a410f49afea8"
      },
      "execution_count": null,
      "outputs": [
        {
          "name": "stdout",
          "output_type": "stream",
          "text": [
            "Em que posso te ajudar hoje? Você conhece a Bíblia?\n",
            "Olá! Sua resposta é:  Sim, conheço a Bíblia. Sou treinado em um vasto conjunto de dados que inclui a Bíblia Sagrada. Isso me permite entender e responder a perguntas sobre o conteúdo, os ensinamentos e a história da Bíblia. \n",
            "\n",
            "Posso te ajudar em algo mais? \n",
            "Sita o versículo que está em Salmos 91.1\n",
            "Olá! Sua resposta é:  \"Aquele que habita no esconderijo do Altíssimo, à sombra do Onipotente descansará.\" (Salmos 91:1) \n",
            "\n",
            "Posso te ajudar em algo mais? \n",
            "E em apocalipse 6.8\n",
            "Olá! Sua resposta é:  \"E olhei, e eis um cavalo amarelo, e o que estava montado nele tinha por nome Morte; e o Hades seguia com ele; e foi-lhes dada autoridade sobre a quarta parte da terra, para matar com espada, e com fome, e com peste, e com as feras da terra.\" (Apocalipse 6:8) \n",
            "\n",
            "Posso te ajudar em algo mais? \n",
            "Me mostra na bíblia um versiculo de aniversário?\n",
            "Olá! Sua resposta é:  \"Os dias da nossa vida chegam a setenta anos, e se alguns, pela sua robustez, chegam a oitenta anos, o orgulho deles é canseira e enfado, pois passa rapidamente, e nós voamos.\" (Salmos 90:10) \n",
            "\n",
            "Posso te ajudar em algo mais? \n",
            "Não!\n",
            "Olá! Sua resposta é:  \"Alegra-te, jovem, na tua mocidade; e alegre-se o teu coração nos dias da tua mocidade; e anda nos caminhos do teu coração, e na vista dos teus olhos; sabe, porém, que por todas estas coisas Deus te trará a juízo.\" (Eclesiastes 11:9) \n",
            "\n",
            "Posso te ajudar em algo mais? \n",
            "Não\n"
          ]
        }
      ]
    },
    {
      "cell_type": "code",
      "source": [
        "chat"
      ],
      "metadata": {
        "colab": {
          "base_uri": "https://localhost:8080/"
        },
        "id": "kKJHUJiF8ujU",
        "outputId": "83eb84bf-e10d-46e6-de0b-01c95b0ec48b"
      },
      "execution_count": null,
      "outputs": [
        {
          "output_type": "execute_result",
          "data": {
            "text/plain": [
              "ChatSession(\n",
              "    model=genai.GenerativeModel(\n",
              "        model_name='models/gemini-1.0-pro',\n",
              "        generation_config={'candidate_count': 1, 'temperature': 0.5},\n",
              "        safety_settings={<HarmCategory.HARM_CATEGORY_HARASSMENT: 7>: <HarmBlockThreshold.BLOCK_NONE: 4>, <HarmCategory.HARM_CATEGORY_HATE_SPEECH: 8>: <HarmBlockThreshold.BLOCK_NONE: 4>, <HarmCategory.HARM_CATEGORY_SEXUALLY_EXPLICIT: 9>: <HarmBlockThreshold.BLOCK_NONE: 4>, <HarmCategory.HARM_CATEGORY_DANGEROUS_CONTENT: 10>: <HarmBlockThreshold.BLOCK_NONE: 4>},\n",
              "        tools=None,\n",
              "        system_instruction=None,\n",
              "    ),\n",
              "    history=[glm.Content({'parts': [{'text': 'Você conhece a Bíblia?'}], 'role': 'user'}), glm.Content({'parts': [{'text': 'Sim, conheço...ia da Bíblia.'}], 'role': 'model'}), glm.Content({'parts': [{'text': 'Sita o versí...m Salmos 91.1'}], 'role': 'user'}), glm.Content({'parts': [{'text': '\"Aquele que ...(Salmos 91:1)'}], 'role': 'model'}), glm.Content({'parts': [{'text': 'E em apocalipse 6.8'}], 'role': 'user'}), glm.Content({'parts': [{'text': '\"E olhei, e ...ocalipse 6:8)'}], 'role': 'model'}), glm.Content({'parts': [{'text': 'Me mostra na... aniversário?'}], 'role': 'user'}), glm.Content({'parts': [{'text': '\"Os dias da ...Salmos 90:10)'}], 'role': 'model'}), glm.Content({'parts': [{'text': 'Não!'}], 'role': 'user'}), glm.Content({'parts': [{'text': '\"Alegra-te, ...siastes 11:9)'}], 'role': 'model'})]\n",
              ")"
            ]
          },
          "metadata": {},
          "execution_count": 18
        }
      ]
    },
    {
      "cell_type": "code",
      "source": [
        "# Melhorando a visualização\n",
        "# Código disponível em https://ai.google.dev/tutorials/python_quickstart#import_packages\n",
        "\n",
        "import textwrap\n",
        "from IPython.display import display\n",
        "from IPython.display import Markdown\n",
        "\n",
        "def to_markdown(text):\n",
        "  text = text.replace(\" * \", \" * \")\n",
        "  return Markdown(textwrap.indent(text, '> ', predicate=lambda _: True))\n",
        "\n",
        "# Imprimindo o histórico\n",
        "for message in chat.history:\n",
        "  display(to_markdown(f\"**{message.role}:** {message.parts[0].text}\"))\n",
        "print()"
      ],
      "metadata": {
        "colab": {
          "base_uri": "https://localhost:8080/",
          "height": 466
        },
        "id": "t_HcUhjj_V4e",
        "outputId": "dfbe2ee8-8d15-4fd1-e42f-6411a8ad9ea5"
      },
      "execution_count": null,
      "outputs": [
        {
          "output_type": "display_data",
          "data": {
            "text/plain": [
              "<IPython.core.display.Markdown object>"
            ],
            "text/markdown": "> **user:** Você conhece a Bíblia?"
          },
          "metadata": {}
        },
        {
          "output_type": "display_data",
          "data": {
            "text/plain": [
              "<IPython.core.display.Markdown object>"
            ],
            "text/markdown": "> **model:** Sim, conheço a Bíblia. Sou treinado em um vasto conjunto de dados que inclui a Bíblia Sagrada. Isso me permite entender e responder a perguntas sobre o conteúdo, os ensinamentos e a história da Bíblia."
          },
          "metadata": {}
        },
        {
          "output_type": "display_data",
          "data": {
            "text/plain": [
              "<IPython.core.display.Markdown object>"
            ],
            "text/markdown": "> **user:** Sita o versículo que está em Salmos 91.1"
          },
          "metadata": {}
        },
        {
          "output_type": "display_data",
          "data": {
            "text/plain": [
              "<IPython.core.display.Markdown object>"
            ],
            "text/markdown": "> **model:** \"Aquele que habita no esconderijo do Altíssimo, à sombra do Onipotente descansará.\" (Salmos 91:1)"
          },
          "metadata": {}
        },
        {
          "output_type": "display_data",
          "data": {
            "text/plain": [
              "<IPython.core.display.Markdown object>"
            ],
            "text/markdown": "> **user:** E em apocalipse 6.8"
          },
          "metadata": {}
        },
        {
          "output_type": "display_data",
          "data": {
            "text/plain": [
              "<IPython.core.display.Markdown object>"
            ],
            "text/markdown": "> **model:** \"E olhei, e eis um cavalo amarelo, e o que estava montado nele tinha por nome Morte; e o Hades seguia com ele; e foi-lhes dada autoridade sobre a quarta parte da terra, para matar com espada, e com fome, e com peste, e com as feras da terra.\" (Apocalipse 6:8)"
          },
          "metadata": {}
        },
        {
          "output_type": "display_data",
          "data": {
            "text/plain": [
              "<IPython.core.display.Markdown object>"
            ],
            "text/markdown": "> **user:** Me mostra na bíblia um versiculo de aniversário?"
          },
          "metadata": {}
        },
        {
          "output_type": "display_data",
          "data": {
            "text/plain": [
              "<IPython.core.display.Markdown object>"
            ],
            "text/markdown": "> **model:** \"Os dias da nossa vida chegam a setenta anos, e se alguns, pela sua robustez, chegam a oitenta anos, o orgulho deles é canseira e enfado, pois passa rapidamente, e nós voamos.\" (Salmos 90:10)"
          },
          "metadata": {}
        },
        {
          "output_type": "display_data",
          "data": {
            "text/plain": [
              "<IPython.core.display.Markdown object>"
            ],
            "text/markdown": "> **user:** Não!"
          },
          "metadata": {}
        },
        {
          "output_type": "display_data",
          "data": {
            "text/plain": [
              "<IPython.core.display.Markdown object>"
            ],
            "text/markdown": "> **model:** \"Alegra-te, jovem, na tua mocidade; e alegre-se o teu coração nos dias da tua mocidade; e anda nos caminhos do teu coração, e na vista dos teus olhos; sabe, porém, que por todas estas coisas Deus te trará a juízo.\" (Eclesiastes 11:9)"
          },
          "metadata": {}
        },
        {
          "output_type": "stream",
          "name": "stdout",
          "text": [
            "\n"
          ]
        }
      ]
    }
  ]
}